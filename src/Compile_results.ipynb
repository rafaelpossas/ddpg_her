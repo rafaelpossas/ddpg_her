{
 "cells": [
  {
   "cell_type": "code",
   "execution_count": 26,
   "metadata": {},
   "outputs": [],
   "source": [
    "#Compiles the results computing mean and std\n",
    "\n",
    "import pickle as c\n",
    "import numpy as np\n",
    "# Load the results from files\n",
    "logdir = '/home/framos/results/Final_013019/'\n",
    "runs = ['run_one.pkl','run_two.pkl','run_three.pkl','run_four.pkl','run_five.pkl']\n",
    "res = []\n",
    "for i in range(len(runs)):\n",
    "    file = logdir + runs[i]\n",
    "    fileobj = open(file, 'rb')\n",
    "    tmp = c.load(fileobj)\n",
    "    res.append(tmp[0])\n",
    "\n",
    "\n"
   ]
  },
  {
   "cell_type": "code",
   "execution_count": 27,
   "metadata": {},
   "outputs": [],
   "source": [
    "# Computes the mean and std accross the runs\n",
    "\n",
    "res_mean = {}\n",
    "res_std = {}\n",
    "# Number of problems\n",
    "for p in range(len(res[0])):\n",
    "    kp = list(res[0].keys())\n",
    "    res_mean[kp[p]] = {}\n",
    "    res_std[kp[p]] = {}\n",
    "    # Number of algorithms\n",
    "    for a in range(len(res[0][kp[p]])):\n",
    "        ka = list(res[0][kp[p]])\n",
    "        res_mean[kp[p]][ka[a]] = {}\n",
    "        res_std[kp[p]][ka[a]] = {}\n",
    "        # Number of variables\n",
    "        for v in range(len(res[0][kp[p]][ka[a]])):\n",
    "            kv = list(res[0][kp[p]][ka[a]])\n",
    "            res_mean[kp[p]][ka[a]][kv[v]] = {}\n",
    "            res_std[kp[p]][ka[a]][kv[v]] = {}       \n",
    "            # Number of runs\n",
    "            tmp = np.zeros(len(runs))\n",
    "            for i in range(len(runs)):\n",
    "                tmp[i] = res[i][kp[p]][ka[a]][kv[v]]\n",
    "                   \n",
    "            res_mean[kp[p]][ka[a]][kv[v]] = np.mean(tmp) \n",
    "            res_std[kp[p]][ka[a]][kv[v]] = np.std(tmp)\n",
    "                       \n",
    "                       \n"
   ]
  },
  {
   "cell_type": "code",
   "execution_count": 28,
   "metadata": {},
   "outputs": [],
   "source": [
    "res2_std=res_std\n",
    "res2_mean=res_mean"
   ]
  },
  {
   "cell_type": "code",
   "execution_count": 29,
   "metadata": {},
   "outputs": [
    {
     "name": "stdout",
     "output_type": "stream",
     "text": [
      "{'Acrobot-v1': {'SNPE': {'LINK_LENGTH_2': -0.6360390994752395, 'LINK_MASS_1': 2.184778720839052, 'LINK_LENGTH_1': 2.430014963841569, 'LINK_MASS_2': 2.498722281053627}, 'MDNN': {'LINK_LENGTH_2': -0.6018717665147726, 'LINK_MASS_1': 0.748789558526934, 'LINK_LENGTH_1': 1.473415933469791, 'LINK_MASS_2': 1.3365326130544959}, 'MDRFF': {'LINK_LENGTH_2': -0.1485995083185739, 'LINK_MASS_1': 2.046352671392404, 'LINK_LENGTH_1': 2.0724181237093293, 'LINK_MASS_2': 0.3214645253667127}, 'Basic': {'LINK_LENGTH_2': -0.5652433106176357, 'LINK_MASS_1': 2.055123589316337, 'LINK_LENGTH_1': 1.1606509820749173, 'LINK_MASS_2': 0.631555553145671}, 'CDELFI': {'LINK_LENGTH_2': -0.5862750268306963, 'LINK_MASS_1': 1.8854995553542189, 'LINK_LENGTH_1': 2.0481534084090485, 'LINK_MASS_2': 2.62949853898546}}, 'MountainCarContinuous-v0': {'SNPE': {'power': 1.975185515957243}, 'MDNN': {'power': 3.5346974867358227}, 'MDRFF': {'power': 3.8038049104984055}, 'Basic': {'power': 0.31769733205911316}, 'CDELFI': {'power': 3.0284332464596195}}, 'Pendulum-v0': {'SNPE': {'dt': 1.1995228419981367}, 'MDNN': {'dt': 3.3978218247332137}, 'MDRFF': {'dt': 3.1924806112430972}, 'Basic': {'dt': 2.724898223910825}, 'CDELFI': {'dt': 3.044717998610894}}, 'CartPole-v1': {'SNPE': {'length': -0.9106674233357447, 'masspole': 0.43997136728956765}, 'MDNN': {'length': -0.47349038169660496, 'masspole': 0.6554083334301086}, 'MDRFF': {'length': -0.9133160697053464, 'masspole': 0.42319469920225244}, 'Basic': {'length': -0.9600827295411017, 'masspole': 0.40131436697070394}, 'CDELFI': {'length': -0.2351312026381379, 'masspole': 0.12966986889140567}}, 'HopperBulletEnv-v0': {'SNPE': {'lateralFriction': -0.03242825508493787}, 'MDNN': {'lateralFriction': 3.1748069632076636}, 'MDRFF': {'lateralFriction': -14.26907274442116}, 'Basic': {'lateralFriction': 1.9607143610093716}, 'CDELFI': {'lateralFriction': -1.259663147981493}}}\n"
     ]
    }
   ],
   "source": [
    "print(res_mean)"
   ]
  },
  {
   "cell_type": "code",
   "execution_count": 30,
   "metadata": {},
   "outputs": [
    {
     "name": "stdout",
     "output_type": "stream",
     "text": [
      "{'Acrobot-v1': {'SNPE': {'LINK_LENGTH_2': 0.1600191632334078, 'LINK_MASS_1': 0.3493749777136211, 'LINK_LENGTH_1': 0.24062412475825243, 'LINK_MASS_2': 0.6698645160934952}, 'MDNN': {'LINK_LENGTH_2': 0.11849672914884604, 'LINK_MASS_1': 0.20664529166163578, 'LINK_LENGTH_1': 0.31390380182285565, 'LINK_MASS_2': 0.17519575560780784}, 'MDRFF': {'LINK_LENGTH_2': 0.1943074650860443, 'LINK_MASS_1': 0.37139157234735315, 'LINK_LENGTH_1': 0.7634562841096871, 'LINK_MASS_2': 1.849136086700919}, 'Basic': {'LINK_LENGTH_2': 0.23590369423319912, 'LINK_MASS_1': 0.5134502977681927, 'LINK_LENGTH_1': 1.7003515863175551, 'LINK_MASS_2': 2.945483036678697}, 'CDELFI': {'LINK_LENGTH_2': 0.0832628799140039, 'LINK_MASS_1': 0.2253844772985954, 'LINK_LENGTH_1': 0.27295392290519155, 'LINK_MASS_2': 0.29326832543170045}}, 'MountainCarContinuous-v0': {'SNPE': {'power': 1.9527035086821243}, 'MDNN': {'power': 0.18402687043214558}, 'MDRFF': {'power': 0.8237538201301243}, 'Basic': {'power': 2.2968968232276925}, 'CDELFI': {'power': 1.012649302516563}}, 'Pendulum-v0': {'SNPE': {'dt': 1.3586427094656197}, 'MDNN': {'dt': 0.1644935595933463}, 'MDRFF': {'dt': 0.3005524078527355}, 'Basic': {'dt': 0.6729491401026112}, 'CDELFI': {'dt': 0.862676656031589}}, 'CartPole-v1': {'SNPE': {'length': 0.4328716417532482, 'masspole': 0.307928679957779}, 'MDNN': {'length': 0.17245294696473298, 'masspole': 0.27635833728520115}, 'MDRFF': {'length': 0.5110725459442292, 'masspole': 0.2653298477993644}, 'Basic': {'length': 0.414579093656526, 'masspole': 0.5091691416760795}, 'CDELFI': {'length': 0.06554116923998499, 'masspole': 0.06977696726214477}}, 'HopperBulletEnv-v0': {'SNPE': {'lateralFriction': 5.302019080794438}, 'MDNN': {'lateralFriction': 0.1092240791593794}, 'MDRFF': {'lateralFriction': 12.93523869244477}, 'Basic': {'lateralFriction': 1.1783610713395147}, 'CDELFI': {'lateralFriction': 8.736834139050348}}}\n"
     ]
    }
   ],
   "source": [
    "print(res_std)"
   ]
  },
  {
   "cell_type": "code",
   "execution_count": null,
   "metadata": {},
   "outputs": [],
   "source": []
  }
 ],
 "metadata": {
  "kernelspec": {
   "display_name": "Python 3",
   "language": "python",
   "name": "python3"
  },
  "language_info": {
   "codemirror_mode": {
    "name": "ipython",
    "version": 3
   },
   "file_extension": ".py",
   "mimetype": "text/x-python",
   "name": "python",
   "nbconvert_exporter": "python",
   "pygments_lexer": "ipython3",
   "version": "3.6.7"
  }
 },
 "nbformat": 4,
 "nbformat_minor": 2
}
